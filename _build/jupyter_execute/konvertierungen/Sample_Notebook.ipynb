{
 "cells": [
  {
   "cell_type": "markdown",
   "id": "1ba5e5c2",
   "metadata": {},
   "source": [
    "# Sample Academic Document"
   ]
  },
  {
   "cell_type": "markdown",
   "id": "3cfc369f",
   "metadata": {},
   "source": [
    "## Introduction\n",
    "\n",
    "This document is created to test the conversion from Word to Markdown and Jupyter Notebook. It includes various academic features such as headings, subheadings, tables, images, and footnotes. The goal is to ensure that all elements are preserved during the conversion process."
   ]
  },
  {
   "cell_type": "markdown",
   "id": "215e0080",
   "metadata": {},
   "source": [
    "## Table Example\n",
    "\n",
    "Below is a table showcasing hypothetical data about historical events and their significance:\n",
    "\n",
    "| Event             | Year          | Significance                           |\n",
    "|-------------------|---------------|----------------------------------------|\n",
    "| French Revolution | 1789          | End of monarchy in France              |\n",
    "| World War I       | 1914-1918[^1] | Global conflict involving major powers |\n",
    "| Moon Landing      | 1969          | First human steps on the moon          |\n",
    "\n",
    "[^1]: Test of footnote within table."
   ]
  },
  {
   "cell_type": "markdown",
   "id": "8f352476",
   "metadata": {},
   "source": [
    "## Image Example\n",
    "\n",
    "The following section includes a placeholder for an image. You can add an actual image in this section later.\n",
    "\n",
    "<img src=\"images/media/image1.jpeg\" style=\"width:5.99375in;height:4.42857in\" alt=\"A street with a variety of fruits.\" />"
   ]
  },
  {
   "cell_type": "markdown",
   "id": "4ae7ef79",
   "metadata": {},
   "source": [
    "## Footnote Example\n",
    "\n",
    "Footnotes are used to provide additional context or references in academic writing. Here is an example of a footnote usage in this text.[^2]\n",
    "\n",
    "[^2]: Sample footnote.\n",
    "\n",
    "<img src=\"images/media/image2.jpeg\" style=\"width:5.99375in;height:4.49375in\" alt=\"A snow covered field with mountains in the background.\" />"
   ]
  },
  {
   "cell_type": "markdown",
   "id": "c36e8f74",
   "metadata": {},
   "source": [
    "## Conclusion\n",
    "\n",
    "This document serves as a robust template for testing document conversion workflows. It includes diverse elements that are often used in academic writing."
   ]
  }
 ],
 "metadata": {
  "language_info": {
   "codemirror_mode": {
    "name": "ipython",
    "version": 3
   },
   "file_extension": ".py",
   "mimetype": "text/x-python",
   "name": "python",
   "nbconvert_exporter": "python",
   "pygments_lexer": "ipython3",
   "version": "3.12.6"
  }
 },
 "nbformat": 4,
 "nbformat_minor": 5
}